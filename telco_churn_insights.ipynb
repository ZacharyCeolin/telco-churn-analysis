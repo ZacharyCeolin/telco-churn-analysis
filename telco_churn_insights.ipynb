{
 "cells": [
  {
   "cell_type": "markdown",
   "id": "b24a0aac",
   "metadata": {},
   "source": [
    "# Final Insights on Telco Customer Churn\n",
    "\n",
    "### <a href=\"telco_churn.ipynb\" target=\"_self\">Introduction</a>&nbsp; &nbsp; &nbsp;<a href=\"telco_churn_analysis.ipynb\" target=\"_self\">Further Analysis</a>&nbsp; &nbsp; &nbsp;<a href=\"telco_churn_insights.ipynb\" target=\"_self\">Final Insights</a>\n",
    "\n",
    "This analysis has provided a comprehensive look at the key factors contributing to customer churn at Telco. By examining contract types, service reliability, customer support quality, and geographic patterns, we’ve identified specific areas where customer dissatisfaction is highest. These insights not only highlight where Telco is losing customers, but also point to actionable opportunities to improve retention and overall customer experience."
   ]
  },
  {
   "cell_type": "markdown",
   "id": "dedf280d",
   "metadata": {},
   "source": [
    "## What Do Churned Users Have In Common?\n",
    "\n",
    "Based on our analysis we can confidently say that the average churned user has the following things in common:\n",
    "\n",
    "- **They are on Month-to-Month contracts**\n",
    "- **Most leave before 18 months as they do not have enough incentive to sign on to longer contracts**\n",
    "- **Users have few, if any, extra features like Online Security or Backup**\n",
    "- **They do not have access to Tech Support**\n",
    "- **Are using both internet and phone services**"
   ]
  },
  {
   "cell_type": "markdown",
   "id": "b522d877",
   "metadata": {},
   "source": [
    "## Suggestions to Reduce Customer Churn\n",
    "\n",
    "### - Provide More Incentive to Sign Longer Contracts\n",
    "\n",
    "This can be achieved by either lowering the monthly cost for longer-term contracts or by bundling additional features with them, making these plans more attractive and competitive. Many telecommunications companies already use this strategy, so by adopting it, Telco can stay aligned with industry trends. Additionally, encouraging customers to commit to longer contracts helps boost retention, as it increases the time customers remain with the company.\n",
    "\n",
    "### - Expand Tech Support Availability\n",
    "\n",
    "Increasing Tech Support availability will ensure customers can get assistance when needed. Telco should prioritize extending Tech Support to Fiber optic users, who currently have the lowest adoption of this feature and the highest churn rate. This initiative aims not only to improve customer service accessibility but also to foster stronger, more positive relationships between customers and the company.\n",
    "\n",
    "### - Investigate Network Infrastructure in High-Density Hotspots\n",
    "\n",
    "Examining and upgrading network infrastructure in the two major user hotspots may help alleviate congestion and improve service reliability. Enhancing infrastructure in these areas can ultimately reduce service interruptions and customer dissatisfaction.\n",
    "\n",
    "### - Enhance Training and Evaluation for Customer Support Employees in Southern California\n",
    "\n",
    "Customers in Southern California report more issues with customer support representatives compared to other regions. Implementing more comprehensive training programs, along with regular employee evaluations and audits, will help ensure that every Telco customer receives high-quality and consistent support.\n",
    "\n",
    "### - Implement Proactive Customer Engagement\n",
    "\n",
    "Reach out to customers early with personalized check-ins or satisfaction surveys. Identifying and addressing concerns before they escalate can reduce churn, especially for month-to-month customers who are more likely to leave quickly."
   ]
  },
  {
   "cell_type": "markdown",
   "id": "c162a1b8",
   "metadata": {},
   "source": [
    "By addressing these issues Telco should be able to significantly improve customer retention. These suggestions for improvement address the top 3 reasons for customer churn, Competition (39.2%), Poor Customer Support (23.1%), and Product/ Service Dissatisfaction (21.4%), while also partially addressing the next leading cause, Overall Cost (12.6%). With a focus on these strategic improvements, Telco can not only reduce churn but also strengthen customer satisfaction and position itself competitively in the telecommunications market."
   ]
  }
 ],
 "metadata": {
  "kernelspec": {
   "display_name": "R",
   "language": "R",
   "name": "ir"
  },
  "language_info": {
   "codemirror_mode": "r",
   "file_extension": ".r",
   "mimetype": "text/x-r-source",
   "name": "R",
   "pygments_lexer": "r",
   "version": "4.5.1"
  }
 },
 "nbformat": 4,
 "nbformat_minor": 5
}
